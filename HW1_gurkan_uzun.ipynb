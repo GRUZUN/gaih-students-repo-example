{
  "nbformat": 4,
  "nbformat_minor": 0,
  "metadata": {
    "colab": {
      "name": "tobb-homework-1-gurkan-uzun.ipynb",
      "provenance": [],
      "authorship_tag": "ABX9TyMok8LWckXk0H1nFPPlR9Uh",
      "include_colab_link": true
    },
    "kernelspec": {
      "name": "python3",
      "display_name": "Python 3"
    }
  },
  "cells": [
    {
      "cell_type": "markdown",
      "metadata": {
        "id": "view-in-github",
        "colab_type": "text"
      },
      "source": [
        "<a href=\"https://colab.research.google.com/github/GRUZUN/gaih-students-repo-example/blob/main/HW1_gurkan_uzun.ipynb\" target=\"_parent\"><img src=\"https://colab.research.google.com/assets/colab-badge.svg\" alt=\"Open In Colab\"/></a>"
      ]
    },
    {
      "cell_type": "markdown",
      "metadata": {
        "id": "QdlZFSeCr0_I"
      },
      "source": [
        "Homework - 1\r\n",
        "\r\n",
        "*   Create two lists.The first list consists off odd numbers.The second list is also of even numbers.\r\n",
        "*   Merge these two lists.Multiply all values in the new list by 2.\r\n",
        "*   Use a loop to print the data type of all the values in new list.\r\n",
        "\r\n",
        "\r\n",
        "\r\n",
        "\r\n",
        "\r\n"
      ]
    },
    {
      "cell_type": "markdown",
      "metadata": {
        "id": "hBuIb5R-nvL8"
      },
      "source": [
        "\r\n",
        "\r\n",
        "**Create two lists.The first list consists off odd numbers.The second list is also of even numbers.**\r\n"
      ]
    },
    {
      "cell_type": "code",
      "metadata": {
        "id": "q_2ULxhvn5rN",
        "colab": {
          "base_uri": "https://localhost:8080/"
        },
        "outputId": "525ec9ca-7583-4148-ad4a-517f0ef10ecb"
      },
      "source": [
        "listOdd = list(range(0,9,2))\r\n",
        "print(\"listOdd\",listOdd)"
      ],
      "execution_count": null,
      "outputs": [
        {
          "output_type": "stream",
          "text": [
            "listOdd [0, 2, 4, 6, 8]\n"
          ],
          "name": "stdout"
        }
      ]
    },
    {
      "cell_type": "code",
      "metadata": {
        "id": "wURSpOqVpPF_",
        "colab": {
          "base_uri": "https://localhost:8080/"
        },
        "outputId": "6304aa61-63fd-4c8c-edba-c61e054902f5"
      },
      "source": [
        "listEven = list(range(1,9,2))\r\n",
        "print(\"listEven\",listEven)"
      ],
      "execution_count": null,
      "outputs": [
        {
          "output_type": "stream",
          "text": [
            "listEven [1, 3, 5, 7]\n"
          ],
          "name": "stdout"
        }
      ]
    },
    {
      "cell_type": "markdown",
      "metadata": {
        "id": "PYrIyUsQphX1"
      },
      "source": [
        "**Merge these two lists.Multiply all values in the new list by 2.**"
      ]
    },
    {
      "cell_type": "code",
      "metadata": {
        "id": "OumMsDdbpv8B",
        "colab": {
          "base_uri": "https://localhost:8080/"
        },
        "outputId": "ce89c4b4-286c-494b-86bc-1ac05d7589ab"
      },
      "source": [
        "listMerged = listOdd + listEven\r\n",
        "print(\"listMerged\",listMerged)\r\n",
        "\r\n",
        "listMerged2 = []\r\n",
        "for i in listMerged:\r\n",
        "  listMerged2.append(2*i)\r\n",
        "\r\n",
        "print(\"listMerged2\",listMerged2)"
      ],
      "execution_count": null,
      "outputs": [
        {
          "output_type": "stream",
          "text": [
            "listMerged [0, 2, 4, 6, 8, 1, 3, 5, 7]\n",
            "listMerged2 [0, 4, 8, 12, 16, 2, 6, 10, 14]\n"
          ],
          "name": "stdout"
        }
      ]
    },
    {
      "cell_type": "markdown",
      "metadata": {
        "id": "u1GKNf2isxza"
      },
      "source": [
        "**Use a loop to print the data type of all the values in new list.**"
      ]
    },
    {
      "cell_type": "code",
      "metadata": {
        "id": "3wZ9yos5s32M",
        "colab": {
          "base_uri": "https://localhost:8080/"
        },
        "outputId": "1d1d34fa-1fed-45d7-c43e-e4a137f83813"
      },
      "source": [
        "for i in listMerged2:\r\n",
        "  print(type(i))"
      ],
      "execution_count": null,
      "outputs": [
        {
          "output_type": "stream",
          "text": [
            "<class 'int'>\n",
            "<class 'int'>\n",
            "<class 'int'>\n",
            "<class 'int'>\n",
            "<class 'int'>\n",
            "<class 'int'>\n",
            "<class 'int'>\n",
            "<class 'int'>\n",
            "<class 'int'>\n"
          ],
          "name": "stdout"
        }
      ]
    }
  ]
}