{
  "nbformat": 4,
  "nbformat_minor": 0,
  "metadata": {
    "colab": {
      "name": "HW1_gurkan_uzun.ipynb",
      "provenance": [],
      "authorship_tag": "ABX9TyM5xJQWiRpd75akX+F7rT3p",
      "include_colab_link": true
    },
    "kernelspec": {
      "name": "python3",
      "display_name": "Python 3"
    }
  },
  "cells": [
    {
      "cell_type": "markdown",
      "metadata": {
        "id": "view-in-github",
        "colab_type": "text"
      },
      "source": [
        "<a href=\"https://colab.research.google.com/github/GRUZUN/gaih-students-repo-example/blob/main/Homeworks/HW1_gurkan_uzun.ipynb\" target=\"_parent\"><img src=\"https://colab.research.google.com/assets/colab-badge.svg\" alt=\"Open In Colab\"/></a>"
      ]
    },
    {
      "cell_type": "markdown",
      "metadata": {
        "id": "QdlZFSeCr0_I"
      },
      "source": [
        "Homework - 1\r\n",
        "\r\n",
        "*   Create two lists.The first list consists off odd numbers.The second list is also of even numbers.\r\n",
        "*   Merge these two lists.Multiply all values in the new list by 2.\r\n",
        "*   Use a loop to print the data type of all the values in new list.\r\n",
        "\r\n",
        "\r\n",
        "\r\n",
        "\r\n",
        "\r\n"
      ]
    },
    {
      "cell_type": "markdown",
      "metadata": {
        "id": "hBuIb5R-nvL8"
      },
      "source": [
        "\r\n",
        "\r\n",
        "**Create two lists.The first list consists off odd numbers.The second list is also of even numbers.**\r\n"
      ]
    },
    {
      "cell_type": "code",
      "metadata": {
        "id": "q_2ULxhvn5rN",
        "colab": {
          "base_uri": "https://localhost:8080/"
        },
        "outputId": "07d2247a-df06-491c-9003-1e2d7b95cc6d"
      },
      "source": [
        "listOdd = list(range(0,9,2))\r\n",
        "print(\"listOdd\",listOdd)"
      ],
      "execution_count": 24,
      "outputs": [
        {
          "output_type": "stream",
          "text": [
            "listOdd [0, 2, 4, 6, 8]\n"
          ],
          "name": "stdout"
        }
      ]
    },
    {
      "cell_type": "code",
      "metadata": {
        "id": "wURSpOqVpPF_",
        "colab": {
          "base_uri": "https://localhost:8080/"
        },
        "outputId": "7bdb3c6a-9f9a-4b3e-f6d9-0e79eb6e6045"
      },
      "source": [
        "listEven = list(range(1,9,2))\r\n",
        "print(\"listEven\",listEven)"
      ],
      "execution_count": 25,
      "outputs": [
        {
          "output_type": "stream",
          "text": [
            "listEven [1, 3, 5, 7]\n"
          ],
          "name": "stdout"
        }
      ]
    },
    {
      "cell_type": "markdown",
      "metadata": {
        "id": "PYrIyUsQphX1"
      },
      "source": [
        "**Merge these two lists.Multiply all values in the new list by 2.**"
      ]
    },
    {
      "cell_type": "code",
      "metadata": {
        "id": "OumMsDdbpv8B",
        "colab": {
          "base_uri": "https://localhost:8080/"
        },
        "outputId": "d3331c9a-6a10-4f7c-e985-3e9904ca8619"
      },
      "source": [
        "listMerged = listOdd + listEven\r\n",
        "print(\"listMerged\",listMerged)\r\n",
        "\r\n",
        "listMerged2 = []\r\n",
        "for i in listMerged:\r\n",
        "  listMerged2.append(2*i)\r\n",
        "\r\n",
        "print(\"listMerged2 : \",listMerged2)"
      ],
      "execution_count": 26,
      "outputs": [
        {
          "output_type": "stream",
          "text": [
            "listMerged [0, 2, 4, 6, 8, 1, 3, 5, 7]\n",
            "listMerged2 :  [0, 4, 8, 12, 16, 2, 6, 10, 14]\n"
          ],
          "name": "stdout"
        }
      ]
    },
    {
      "cell_type": "markdown",
      "metadata": {
        "id": "vd0LwN_4R_K7"
      },
      "source": [
        "**2.Yöntem**(Sıralayarak getiriyor.)"
      ]
    },
    {
      "cell_type": "code",
      "metadata": {
        "id": "d7ryGeWSSDRD",
        "outputId": "27950707-01ab-4d41-a1a7-0cfcfb6629e1",
        "colab": {
          "base_uri": "https://localhost:8080/"
        }
      },
      "source": [
        "listMerged2 = {2*x for x in listMerged}\r\n",
        "print(\"listMerged2 : \",listMerged2)"
      ],
      "execution_count": 27,
      "outputs": [
        {
          "output_type": "stream",
          "text": [
            "listMerged2 :  {0, 2, 4, 6, 8, 10, 12, 14, 16}\n"
          ],
          "name": "stdout"
        }
      ]
    },
    {
      "cell_type": "markdown",
      "metadata": {
        "id": "u1GKNf2isxza"
      },
      "source": [
        "**Use a loop to print the data type of all the values in new list.**"
      ]
    },
    {
      "cell_type": "code",
      "metadata": {
        "id": "3wZ9yos5s32M",
        "colab": {
          "base_uri": "https://localhost:8080/"
        },
        "outputId": "b18070d2-53d7-415a-e067-634d1d5711b9"
      },
      "source": [
        "for i in listMerged2:\r\n",
        "  print(type(i))"
      ],
      "execution_count": 28,
      "outputs": [
        {
          "output_type": "stream",
          "text": [
            "<class 'int'>\n",
            "<class 'int'>\n",
            "<class 'int'>\n",
            "<class 'int'>\n",
            "<class 'int'>\n",
            "<class 'int'>\n",
            "<class 'int'>\n",
            "<class 'int'>\n",
            "<class 'int'>\n"
          ],
          "name": "stdout"
        }
      ]
    },
    {
      "cell_type": "markdown",
      "metadata": {
        "id": "84toMGp7U5Fk"
      },
      "source": [
        "**2.Yöntem** (Distinct değer veriyor.)"
      ]
    },
    {
      "cell_type": "code",
      "metadata": {
        "id": "TkjnsNw3U_7J",
        "outputId": "f7ad8210-06f6-4970-eef1-a7881ec16f14",
        "colab": {
          "base_uri": "https://localhost:8080/"
        }
      },
      "source": [
        "print({type(x) for x in listMerged2})"
      ],
      "execution_count": 29,
      "outputs": [
        {
          "output_type": "stream",
          "text": [
            "{<class 'int'>}\n"
          ],
          "name": "stdout"
        }
      ]
    }
  ]
}
