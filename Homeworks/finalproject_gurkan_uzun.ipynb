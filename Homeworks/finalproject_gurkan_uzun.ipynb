{
  "nbformat": 4,
  "nbformat_minor": 0,
  "metadata": {
    "colab": {
      "name": "finalproject_gurkan_uzun.ipynb",
      "provenance": [],
      "authorship_tag": "ABX9TyNCy6HlvlZsdOZ+9r4OBcRU",
      "include_colab_link": true
    },
    "kernelspec": {
      "name": "python3",
      "display_name": "Python 3"
    }
  },
  "cells": [
    {
      "cell_type": "markdown",
      "metadata": {
        "id": "view-in-github",
        "colab_type": "text"
      },
      "source": [
        "<a href=\"https://colab.research.google.com/github/GRUZUN/gaih-students-repo-example/blob/main/Homeworks/finalproject_gurkan_uzun.ipynb\" target=\"_parent\"><img src=\"https://colab.research.google.com/assets/colab-badge.svg\" alt=\"Open In Colab\"/></a>"
      ]
    },
    {
      "cell_type": "markdown",
      "metadata": {
        "id": "WMdU8SGmyg7R"
      },
      "source": [
        "**Final Project**\n",
        "\n",
        "**Knowledge Competition**\n",
        "\n",
        "*   Write a knowledge competition program.\n",
        "*   It should consists of 10 questions in total.\n",
        "*   Each question will have only one answer.\n",
        "*   Adjust the answer of questions according to case sensitivity.\n",
        "*   Each question should be worth 10 points.\n",
        "*   If user answers 5 or fewer questions, It would be considered unsuccessful.\n",
        "*   If user answers more than 5 questions correctly,It would be considered successfull."
      ]
    },
    {
      "cell_type": "code",
      "metadata": {
        "id": "4_uov3Et1Afl"
      },
      "source": [
        "def prepareQuestions(listQuestion):\n",
        "  \n",
        "  listQuestion.append({\"id\":0,\"question\":\"Dışı var, içi yok; Tekme yer, suçu yok.\",\"answer\":\"TOP\",\"userAnswer\":\"\",\"checkUserAnswer\":0})\n",
        "  listQuestion.append({\"id\":1,\"question\":\"Çarşıdan aldım bir tane, eve geldim bin tane.\",\"answer\":\"NAR\",\"userAnswer\":\"\",\"checkUserAnswer\":0})\n",
        "  listQuestion.append({\"id\":2,\"question\":\"Kümeslerin efesi, her sabah çınlar sesi, uyandırır herkesi.\",\"answer\":\"HOROZ\",\"userAnswer\":\"\",\"checkUserAnswer\":0})\n",
        "  listQuestion.append({\"id\":3,\"question\":\"Kanadı var, kuş değil. Boynuzu var, koç değil.\",\"answer\":\"KELEBEK\",\"userAnswer\":\"\",\"checkUserAnswer\":0})\n",
        "  listQuestion.append({\"id\":4,\"question\":\"Bilmece bildirmece, dil üstünde kaydırmaca.\",\"answer\":\"DONDURMA\",\"userAnswer\":\"\",\"checkUserAnswer\":0})\n",
        "  listQuestion.append({\"id\":5,\"question\":\"Sıcağa koyma kurur, suya koyma köpürür.\",\"answer\":\"SABUN\",\"userAnswer\":\"\",\"checkUserAnswer\":0})\n",
        "  listQuestion.append({\"id\":6,\"question\":\"Dört ayağı var ama yürüyemez.\",\"answer\":\"MASA\",\"userAnswer\":\"\",\"checkUserAnswer\":0})\n",
        "  listQuestion.append({\"id\":7,\"question\":\"Ay varken uçar, gün varken kaçar.\",\"answer\":\"YARASA\",\"userAnswer\":\"\",\"checkUserAnswer\":0})\n",
        "  listQuestion.append({\"id\":8,\"question\":\"Yolda gider izi kalır.Yuvasını sırtında taşır.\",\"answer\":\"SALYANGOZ\",\"userAnswer\":\"\",\"checkUserAnswer\":0})\n",
        "  listQuestion.append({\"id\":9,\"question\":\"Şekere benzer tadı yok.Gökte uçar kanadı yok\",\"answer\":\"KAR\",\"userAnswer\":\"\",\"checkUserAnswer\":0})\n",
        "\n",
        "  print(\"listQuestion :\",listQuestion)\n",
        "\n",
        "  return listQuestion"
      ],
      "execution_count": 16,
      "outputs": []
    },
    {
      "cell_type": "code",
      "metadata": {
        "id": "bJbHaTM4AJx7"
      },
      "source": [
        "def getUserAnswers(listQuestion):\n",
        "\n",
        "  for i in listQuestion:\n",
        "    i['userAnswer'] = input(i.get(\"question\") + \" : \")\n",
        "    if(i['userAnswer'].upper()) == (i['answer'].upper()):\n",
        "      i['checkUserAnswer']= 1\n",
        "      print(\"DOGRU : \",i)\n",
        "    else:\n",
        "      i['checkUserAnswer']= 0\n",
        "      print(\"YANLIS : \",i)\n",
        "  \n",
        "  return listQuestion"
      ],
      "execution_count": 27,
      "outputs": []
    },
    {
      "cell_type": "code",
      "metadata": {
        "id": "JiP36JzZEwLk"
      },
      "source": [
        "def evaluateUserSuccess(listQuestion):\n",
        "\n",
        "  correctUserAnswer = 0\n",
        "\n",
        "  for i in listQuestion:\n",
        "    if i['checkUserAnswer']== 1:\n",
        "      correctUserAnswer +=1\n",
        "\n",
        "  score = 10*correctUserAnswer\n",
        "\n",
        "  if correctUserAnswer > 5:\n",
        "    print(\"!!! CONGRULATIONS, YOU PASSED EXAM !!! YOUR SCORE : \",score)\n",
        "  else:\n",
        "    print(\"!!! UNFORTUNATELY, YOU ARE FAILED  !!! YOUR SCORE : \",score)\n"
      ],
      "execution_count": 34,
      "outputs": []
    },
    {
      "cell_type": "code",
      "metadata": {
        "colab": {
          "base_uri": "https://localhost:8080/"
        },
        "id": "ySxcqdkx8iSV",
        "outputId": "f6cfab5c-8849-4c57-d027-a11421ecadf4"
      },
      "source": [
        "listQuestion = []\n",
        "\n",
        "prepareQuestions(listQuestion)\n",
        "\n",
        "getUserAnswers(listQuestion)\n",
        "\n",
        "evaluateUserSuccess(listQuestion)"
      ],
      "execution_count": 35,
      "outputs": [
        {
          "output_type": "stream",
          "text": [
            "listQuestion : [{'id': 0, 'question': 'Dışı var, içi yok; Tekme yer, suçu yok.', 'answer': 'TOP', 'userAnswer': '', 'checkUserAnswer': 0}, {'id': 1, 'question': 'Çarşıdan aldım bir tane, eve geldim bin tane.', 'answer': 'NAR', 'userAnswer': '', 'checkUserAnswer': 0}, {'id': 2, 'question': 'Kümeslerin efesi, her sabah çınlar sesi, uyandırır herkesi.', 'answer': 'HOROZ', 'userAnswer': '', 'checkUserAnswer': 0}, {'id': 3, 'question': 'Kanadı var, kuş değil. Boynuzu var, koç değil.', 'answer': 'KELEBEK', 'userAnswer': '', 'checkUserAnswer': 0}, {'id': 4, 'question': 'Bilmece bildirmece, dil üstünde kaydırmaca.', 'answer': 'DONDURMA', 'userAnswer': '', 'checkUserAnswer': 0}, {'id': 5, 'question': 'Sıcağa koyma kurur, suya koyma köpürür.', 'answer': 'SABUN', 'userAnswer': '', 'checkUserAnswer': 0}, {'id': 6, 'question': 'Dört ayağı var ama yürüyemez.', 'answer': 'MASA', 'userAnswer': '', 'checkUserAnswer': 0}, {'id': 7, 'question': 'Ay varken uçar, gün varken kaçar.', 'answer': 'YARASA', 'userAnswer': '', 'checkUserAnswer': 0}, {'id': 8, 'question': 'Yolda gider izi kalır.Yuvasını sırtında taşır.', 'answer': 'SALYANGOZ', 'userAnswer': '', 'checkUserAnswer': 0}, {'id': 9, 'question': 'Şekere benzer tadı yok.Gökte uçar kanadı yok', 'answer': 'KAR', 'userAnswer': '', 'checkUserAnswer': 0}]\n",
            "Dışı var, içi yok; Tekme yer, suçu yok. : TOP\n",
            "DOGRU :  {'id': 0, 'question': 'Dışı var, içi yok; Tekme yer, suçu yok.', 'answer': 'TOP', 'userAnswer': 'TOP', 'checkUserAnswer': 1}\n",
            "Çarşıdan aldım bir tane, eve geldim bin tane. : ZZ\n",
            "YANLIS :  {'id': 1, 'question': 'Çarşıdan aldım bir tane, eve geldim bin tane.', 'answer': 'NAR', 'userAnswer': 'ZZ', 'checkUserAnswer': 0}\n",
            "Kümeslerin efesi, her sabah çınlar sesi, uyandırır herkesi. : RRR\n",
            "YANLIS :  {'id': 2, 'question': 'Kümeslerin efesi, her sabah çınlar sesi, uyandırır herkesi.', 'answer': 'HOROZ', 'userAnswer': 'RRR', 'checkUserAnswer': 0}\n",
            "Kanadı var, kuş değil. Boynuzu var, koç değil. : FF\n",
            "YANLIS :  {'id': 3, 'question': 'Kanadı var, kuş değil. Boynuzu var, koç değil.', 'answer': 'KELEBEK', 'userAnswer': 'FF', 'checkUserAnswer': 0}\n",
            "Bilmece bildirmece, dil üstünde kaydırmaca. : SS\n",
            "YANLIS :  {'id': 4, 'question': 'Bilmece bildirmece, dil üstünde kaydırmaca.', 'answer': 'DONDURMA', 'userAnswer': 'SS', 'checkUserAnswer': 0}\n",
            "Sıcağa koyma kurur, suya koyma köpürür. : SABUN\n",
            "DOGRU :  {'id': 5, 'question': 'Sıcağa koyma kurur, suya koyma köpürür.', 'answer': 'SABUN', 'userAnswer': 'SABUN', 'checkUserAnswer': 1}\n",
            "Dört ayağı var ama yürüyemez. : TT\n",
            "YANLIS :  {'id': 6, 'question': 'Dört ayağı var ama yürüyemez.', 'answer': 'MASA', 'userAnswer': 'TT', 'checkUserAnswer': 0}\n",
            "Ay varken uçar, gün varken kaçar. : EE\n",
            "YANLIS :  {'id': 7, 'question': 'Ay varken uçar, gün varken kaçar.', 'answer': 'YARASA', 'userAnswer': 'EE', 'checkUserAnswer': 0}\n",
            "Yolda gider izi kalır.Yuvasını sırtında taşır. : AA\n",
            "YANLIS :  {'id': 8, 'question': 'Yolda gider izi kalır.Yuvasını sırtında taşır.', 'answer': 'SALYANGOZ', 'userAnswer': 'AA', 'checkUserAnswer': 0}\n",
            "Şekere benzer tadı yok.Gökte uçar kanadı yok : FF\n",
            "YANLIS :  {'id': 9, 'question': 'Şekere benzer tadı yok.Gökte uçar kanadı yok', 'answer': 'KAR', 'userAnswer': 'FF', 'checkUserAnswer': 0}\n",
            "!!! UNFORTUNATELY, YOU ARE FAILED  !!! YOUR SCORE :  20\n"
          ],
          "name": "stdout"
        }
      ]
    }
  ]
}