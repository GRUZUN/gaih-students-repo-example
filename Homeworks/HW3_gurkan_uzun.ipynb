{
  "nbformat": 4,
  "nbformat_minor": 0,
  "metadata": {
    "colab": {
      "name": "HW3_gurkan_uzun.ipynb",
      "provenance": [],
      "authorship_tag": "ABX9TyNHUWcIb69TVYvYQEw+fpTh",
      "include_colab_link": true
    },
    "kernelspec": {
      "name": "python3",
      "display_name": "Python 3"
    }
  },
  "cells": [
    {
      "cell_type": "markdown",
      "metadata": {
        "id": "view-in-github",
        "colab_type": "text"
      },
      "source": [
        "<a href=\"https://colab.research.google.com/github/GRUZUN/gaih-students-repo-example/blob/main/Homeworks/HW3_gurkan_uzun.ipynb\" target=\"_parent\"><img src=\"https://colab.research.google.com/assets/colab-badge.svg\" alt=\"Open In Colab\"/></a>"
      ]
    },
    {
      "cell_type": "markdown",
      "metadata": {
        "id": "Gb-3tu6AL6A7"
      },
      "source": [
        "**Course Grade Application**\r\n",
        "\r\n",
        "*   Create 5 students.Ask these students from the user.\r\n",
        "*   Each of these students should have a midterm grade,project grade and final grade.\r\n",
        "*   Each student will have a course passing grade.\r\n",
        "*   passingGrade = midterm*(0.3)+project*(0.3)+final*(0.4) passing grade should be determined like this.\r\n",
        "*   Create a dictionary that keeps theese students' information.\r\n",
        "*   Calculate the students' grades and transfer them to the list with help of indexing.\r\n",
        "*   Finally,set the student with the highest grade to be in the first index and the student with the lowest grade to be in the last index of the list.\r\n",
        "\r\n",
        "\r\n",
        "\r\n",
        "\r\n",
        "\r\n",
        "\r\n",
        "\r\n",
        "\r\n",
        "\r\n",
        "\r\n",
        "\r\n"
      ]
    },
    {
      "cell_type": "code",
      "metadata": {
        "id": "0WFAYUd--bVB"
      },
      "source": [
        "def input_function(idx,name):\r\n",
        "  i=0\r\n",
        "  intValue=0\r\n",
        "  while i==0:\r\n",
        "    value = input(str(idx+1) + \".Please enter \"+ name +\" : \")\r\n",
        "    try:\r\n",
        "      intValue=int(value)\r\n",
        "      i=1\r\n",
        "      return intValue\r\n",
        "    except ValueError as error:\r\n",
        "        print(\"Please enter \" + name + \" again :\",error)"
      ],
      "execution_count": 48,
      "outputs": []
    },
    {
      "cell_type": "code",
      "metadata": {
        "id": "NDuTsyXE6N36",
        "outputId": "db78c428-fafb-477a-d54b-a6bc6ee58de9",
        "colab": {
          "base_uri": "https://localhost:8080/"
        }
      },
      "source": [
        "listStudentInfo=[]\r\n",
        "i=0\r\n",
        "while i<5:\r\n",
        "\r\n",
        "   midtermGrade = input_function(i,\"midterm grade\")\r\n",
        "   projectGrade = input_function(i,\"project grade\")\r\n",
        "   finalGrade = input_function(i,\"final grade\")\r\n",
        "\r\n",
        "   passingGrade = int(0.3*midtermGrade+0.3*projectGrade+0.4*finalGrade)\r\n",
        "   print(\"***\",str(i+1),\".passingGrade :\",passingGrade,\"***\")\r\n",
        "\r\n",
        "   studentInfo={\"id\":i,\"midtermGrade\":midtermGrade,\"projectGrade\":projectGrade,\"finalGrade\":finalGrade,\"passingGrade\":passingGrade}\r\n",
        "   print(\"studentInfo :\",studentInfo)\r\n",
        "   \r\n",
        "   listStudentInfo.append(studentInfo)\r\n",
        "   i+=1\r\n",
        "\r\n",
        "print(\"listStudentInfo :\",listStudentInfo)"
      ],
      "execution_count": 49,
      "outputs": [
        {
          "output_type": "stream",
          "text": [
            "1.Please enter midterm grade : 11\n",
            "1.Please enter project grade : 22\n",
            "1.Please enter final grade : 33\n",
            "*** 1 .passingGrade : 23 ***\n",
            "studentInfo : {'id': 0, 'midtermGrade': 11, 'projectGrade': 22, 'finalGrade': 33, 'passingGrade': 23}\n",
            "2.Please enter midterm grade : 44\n",
            "2.Please enter project grade : 55\n",
            "2.Please enter final grade : 66\n",
            "*** 2 .passingGrade : 56 ***\n",
            "studentInfo : {'id': 1, 'midtermGrade': 44, 'projectGrade': 55, 'finalGrade': 66, 'passingGrade': 56}\n",
            "3.Please enter midterm grade : 11\n",
            "3.Please enter project grade : 22\n",
            "3.Please enter final grade : 11\n",
            "*** 3 .passingGrade : 14 ***\n",
            "studentInfo : {'id': 2, 'midtermGrade': 11, 'projectGrade': 22, 'finalGrade': 11, 'passingGrade': 14}\n",
            "4.Please enter midterm grade : 99\n",
            "4.Please enter project grade : 99\n",
            "4.Please enter final grade : 88\n",
            "*** 4 .passingGrade : 94 ***\n",
            "studentInfo : {'id': 3, 'midtermGrade': 99, 'projectGrade': 99, 'finalGrade': 88, 'passingGrade': 94}\n",
            "5.Please enter midterm grade : 22\n",
            "5.Please enter project grade : 44\n",
            "5.Please enter final grade : 55\n",
            "*** 5 .passingGrade : 41 ***\n",
            "studentInfo : {'id': 4, 'midtermGrade': 22, 'projectGrade': 44, 'finalGrade': 55, 'passingGrade': 41}\n",
            "listStudentInfo : [{'id': 0, 'midtermGrade': 11, 'projectGrade': 22, 'finalGrade': 33, 'passingGrade': 23}, {'id': 1, 'midtermGrade': 44, 'projectGrade': 55, 'finalGrade': 66, 'passingGrade': 56}, {'id': 2, 'midtermGrade': 11, 'projectGrade': 22, 'finalGrade': 11, 'passingGrade': 14}, {'id': 3, 'midtermGrade': 99, 'projectGrade': 99, 'finalGrade': 88, 'passingGrade': 94}, {'id': 4, 'midtermGrade': 22, 'projectGrade': 44, 'finalGrade': 55, 'passingGrade': 41}]\n"
          ],
          "name": "stdout"
        }
      ]
    },
    {
      "cell_type": "markdown",
      "metadata": {
        "id": "XC0HZl4_CLCX"
      },
      "source": [
        "**Finally,set the student with the highest grade to be in the first index and the student with the lowest grade to be in the last index of the list.**"
      ]
    },
    {
      "cell_type": "code",
      "metadata": {
        "id": "jXDgErtrCOol",
        "outputId": "4687fc59-a3fc-4a19-9c22-146c97d81a0e",
        "colab": {
          "base_uri": "https://localhost:8080/"
        }
      },
      "source": [
        "listStudentInfoSortedLowestToHighestGrade=sorted(listStudentInfo, key=lambda k : k['passingGrade'])\r\n",
        "print(\"listStudentInfoSortedLowestToHighestGrade : \" , listStudentInfoSortedLowestToHighestGrade)"
      ],
      "execution_count": 51,
      "outputs": [
        {
          "output_type": "stream",
          "text": [
            "listStudentInfoSortedLowestToHighestGrade :  [{'id': 2, 'midtermGrade': 11, 'projectGrade': 22, 'finalGrade': 11, 'passingGrade': 14}, {'id': 0, 'midtermGrade': 11, 'projectGrade': 22, 'finalGrade': 33, 'passingGrade': 23}, {'id': 4, 'midtermGrade': 22, 'projectGrade': 44, 'finalGrade': 55, 'passingGrade': 41}, {'id': 1, 'midtermGrade': 44, 'projectGrade': 55, 'finalGrade': 66, 'passingGrade': 56}, {'id': 3, 'midtermGrade': 99, 'projectGrade': 99, 'finalGrade': 88, 'passingGrade': 94}]\n"
          ],
          "name": "stdout"
        }
      ]
    },
    {
      "cell_type": "code",
      "metadata": {
        "id": "zlD-P9pIE8pK",
        "outputId": "2d141ed5-5432-43f9-fa49-e88b74d1eca1",
        "colab": {
          "base_uri": "https://localhost:8080/"
        }
      },
      "source": [
        "print(\"listStudentInfoSortedHighestToLowestGrade :\",listStudentInfoSortedLowestToHighestGrade[::-1])"
      ],
      "execution_count": 52,
      "outputs": [
        {
          "output_type": "stream",
          "text": [
            "listStudentInfoSortedHighestToLowestGrade : [{'id': 3, 'midtermGrade': 99, 'projectGrade': 99, 'finalGrade': 88, 'passingGrade': 94}, {'id': 1, 'midtermGrade': 44, 'projectGrade': 55, 'finalGrade': 66, 'passingGrade': 56}, {'id': 4, 'midtermGrade': 22, 'projectGrade': 44, 'finalGrade': 55, 'passingGrade': 41}, {'id': 0, 'midtermGrade': 11, 'projectGrade': 22, 'finalGrade': 33, 'passingGrade': 23}, {'id': 2, 'midtermGrade': 11, 'projectGrade': 22, 'finalGrade': 11, 'passingGrade': 14}]\n"
          ],
          "name": "stdout"
        }
      ]
    }
  ]
}