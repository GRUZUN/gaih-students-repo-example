{
  "nbformat": 4,
  "nbformat_minor": 0,
  "metadata": {
    "colab": {
      "name": "HW3_gurkan_uzun.ipynb",
      "provenance": [],
      "authorship_tag": "ABX9TyOvqmTSwRxmShVJuL27iSIi",
      "include_colab_link": true
    },
    "kernelspec": {
      "name": "python3",
      "display_name": "Python 3"
    }
  },
  "cells": [
    {
      "cell_type": "markdown",
      "metadata": {
        "id": "view-in-github",
        "colab_type": "text"
      },
      "source": [
        "<a href=\"https://colab.research.google.com/github/GRUZUN/gaih-students-repo-example/blob/main/Homeworks/HW3_gurkan_uzun.ipynb\" target=\"_parent\"><img src=\"https://colab.research.google.com/assets/colab-badge.svg\" alt=\"Open In Colab\"/></a>"
      ]
    },
    {
      "cell_type": "markdown",
      "metadata": {
        "id": "Gb-3tu6AL6A7"
      },
      "source": [
        "**Course Grade Application**\r\n",
        "\r\n",
        "*   Create 5 students.Ask these students from the user.\r\n",
        "*   Each of these students should have a midterm grade,project grade and final grade.\r\n",
        "*   Each student will have a course passing grade.\r\n",
        "*   passingGrade = midterm*(0.3)+project*(0.3)+final*(0.4) passing grade should be determined like this.\r\n",
        "*   Create a dictionary that keeps theese students' information.\r\n",
        "*   Calculate the students' grades and transfer them to the list with help of indexing.\r\n",
        "*   Finally,set the student with the highest grade to be in the first index and the student with the lowest grade to be in the last index of the list.\r\n",
        "\r\n",
        "\r\n",
        "\r\n",
        "\r\n",
        "\r\n",
        "\r\n",
        "\r\n",
        "\r\n",
        "\r\n",
        "\r\n",
        "\r\n"
      ]
    },
    {
      "cell_type": "markdown",
      "metadata": {
        "id": "An3t_q29lVYe"
      },
      "source": [
        "**Create 5 students.Ask these students from the user.**"
      ]
    }
  ]
}