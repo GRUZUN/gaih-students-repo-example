{
  "nbformat": 4,
  "nbformat_minor": 0,
  "metadata": {
    "colab": {
      "name": "HW2_gurkan_uzun.ipynb",
      "provenance": [],
      "authorship_tag": "ABX9TyPQjGD6kGgbOEDlBMDz3i8Q",
      "include_colab_link": true
    },
    "kernelspec": {
      "name": "python3",
      "display_name": "Python 3"
    }
  },
  "cells": [
    {
      "cell_type": "markdown",
      "metadata": {
        "id": "view-in-github",
        "colab_type": "text"
      },
      "source": [
        "<a href=\"https://colab.research.google.com/github/GRUZUN/gaih-students-repo-example/blob/main/Homeworks/HW2_gurkan_uzun.ipynb\" target=\"_parent\"><img src=\"https://colab.research.google.com/assets/colab-badge.svg\" alt=\"Open In Colab\"/></a>"
      ]
    },
    {
      "cell_type": "markdown",
      "metadata": {
        "id": "o9KSgjyAZg92"
      },
      "source": [
        "**CV Application**\r\n",
        "\r\n",
        "*   **Create 5 dictionaries.**\r\n",
        "*   **Each dictionary should represent a CV.**\r\n",
        "*   **Create a CV containing the information of the 5 created people.**\r\n",
        "*   **Print the information on CVs created on the screen.**"
      ]
    },
    {
      "cell_type": "code",
      "metadata": {
        "colab": {
          "base_uri": "https://localhost:8080/"
        },
        "id": "_60VBkXTbOx4",
        "outputId": "6c0079c0-1fa0-41ce-fc12-8ee4c1c39e4d"
      },
      "source": [
        "listCV = []\r\n",
        "\r\n",
        "listCV.append({\"id\":1,\"name\":\"Ali\",\"surname\":\"MARTI\",\"martialStatus\":\"SINGLE\",\"dateOfBirth\":\"01.01.1990\",\"skills\":{\"JAVA\",\"C\",\"FORTRAN\"}})\r\n",
        "listCV.append({\"id\":2,\"name\":\"Veli\",\"surname\":\"HOROZ\",\"martialStatus\":\"MARRIED\",\"dateOfBirth\":\"01.01.1991\",\"skills\":{\"GIT\",\"PYTHON\",\"FORTRAN\"}})\r\n",
        "listCV.append({\"id\":3,\"name\":\"Mehmet\",\"surname\":\"SERÇE\",\"martialStatus\":\"SINGLE\",\"dateOfBirth\":\"01.01.1992\",\"skills\":{\"HTML\",\"CSS\",\"JS\",\"REACT\"}})\r\n",
        "listCV.append({\"id\":4,\"name\":\"Ufuk\",\"surname\":\"MEŞE\",\"martialStatus\":\"MARRIED\",\"dateOfBirth\":\"01.01.1993\",\"skills\":{\"RUBY\"}})\r\n",
        "listCV.append({\"id\":5,\"name\":\"Fatma\",\"surname\":\"ÇAM\",\"martialStatus\":\"SINGLE\",\"dateOfBirth\":\"01.01.1994\",\"skills\":{\"LINUX\",\"ORACLE\"}})\r\n",
        "\r\n",
        "for x in listCV:\r\n",
        "  print(x)\r\n",
        "\r\n"
      ],
      "execution_count": 11,
      "outputs": [
        {
          "output_type": "stream",
          "text": [
            "{'id': 1, 'name': 'Ali', 'surname': 'MARTI', 'martialStatus': 'SINGLE', 'dateOfBirth': '01.01.1990', 'skills': {'JAVA', 'FORTRAN', 'C'}}\n",
            "{'id': 2, 'name': 'Veli', 'surname': 'HOROZ', 'martialStatus': 'MARRIED', 'dateOfBirth': '01.01.1991', 'skills': {'FORTRAN', 'GIT', 'PYTHON'}}\n",
            "{'id': 3, 'name': 'Mehmet', 'surname': 'SERÇE', 'martialStatus': 'SINGLE', 'dateOfBirth': '01.01.1992', 'skills': {'JS', 'CSS', 'REACT', 'HTML'}}\n",
            "{'id': 4, 'name': 'Ufuk', 'surname': 'MEŞE', 'martialStatus': 'MARRIED', 'dateOfBirth': '01.01.1993', 'skills': {'RUBY'}}\n",
            "{'id': 5, 'name': 'Fatma', 'surname': 'ÇAM', 'martialStatus': 'SINGLE', 'dateOfBirth': '01.01.1994', 'skills': {'ORACLE', 'LINUX'}}\n"
          ],
          "name": "stdout"
        }
      ]
    }
  ]
}